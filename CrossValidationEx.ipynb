{
 "cells": [
  {
   "cell_type": "code",
   "execution_count": 1,
   "id": "c9ad156c-ec13-4109-9210-741cfa657228",
   "metadata": {},
   "outputs": [],
   "source": [
    "import numpy as np"
   ]
  },
  {
   "cell_type": "code",
   "execution_count": 2,
   "id": "0c08f24e-8938-49ee-974c-e82b4e41eea6",
   "metadata": {},
   "outputs": [],
   "source": [
    "# Let's assume [[1, 2], [3, 4]] is Fold_1 \n",
    "# and [[1, 2], [3, 4], [4, 4]] is Fold_2\n",
    "\n",
    "X = [\n",
    "        [1, 2], \n",
    "        [3, 4], \n",
    "        [1, 2], \n",
    "        [3, 4], \n",
    "        [4, 4]\n",
    "    ]\n",
    "y = [1, 2, 3, 4, 5]"
   ]
  },
  {
   "cell_type": "code",
   "execution_count": 3,
   "id": "46b96b66-bdf2-4365-b267-dc2b46ae98a6",
   "metadata": {},
   "outputs": [
    {
     "data": {
      "text/plain": [
       "5"
      ]
     },
     "execution_count": 3,
     "metadata": {},
     "output_type": "execute_result"
    }
   ],
   "source": [
    "X = np.array(X)\n",
    "n_samples = X.shape[0]\n",
    "\n",
    "n_samples"
   ]
  },
  {
   "cell_type": "code",
   "execution_count": 11,
   "id": "2c64525d-e0c4-4644-9955-025590522aa9",
   "metadata": {},
   "outputs": [],
   "source": [
    "n_splits = 2\n",
    "fold_size = np.ones(n_splits, dtype='int') * (n_samples // n_splits) ## scalar multiplication\n",
    "\n",
    "fold_size[:n_samples%n_splits] += 1 # This means array 1 untuk n_samples%n_splits would be added by the remaining of the division"
   ]
  },
  {
   "cell_type": "code",
   "execution_count": 12,
   "id": "8fac1df9-ac70-4907-8077-bb8cd0f396d1",
   "metadata": {},
   "outputs": [
    {
     "data": {
      "text/plain": [
       "array([3, 2])"
      ]
     },
     "execution_count": 12,
     "metadata": {},
     "output_type": "execute_result"
    }
   ],
   "source": [
    "fold_size"
   ]
  },
  {
   "cell_type": "code",
   "execution_count": 16,
   "id": "9e06a16d-0e14-4e9b-b4bb-7da4c12e4ca4",
   "metadata": {},
   "outputs": [
    {
     "name": "stdout",
     "output_type": "stream",
     "text": [
      "0 3 [1 4 2]\n",
      "3 5 [0 3]\n"
     ]
    }
   ],
   "source": [
    "indices = np.arange(n_samples)\n",
    "np.random.seed(42)\n",
    "np.random.shuffle(indices)\n",
    "\n",
    "current = 0\n",
    "for i, size in enumerate(fold_size):\n",
    "    start_idx = current\n",
    "    end_idx = current + size\n",
    "    print(start_idx, end_idx, indices[start_idx:end_idx])\n",
    "    \n",
    "    current = end_idx"
   ]
  },
  {
   "cell_type": "code",
   "execution_count": null,
   "id": "6ff08aef-f3cc-443e-8335-b280b153b3f1",
   "metadata": {},
   "outputs": [],
   "source": [
    "class KFold:\n",
    "    def __init__(\n",
    "        self,\n",
    "        n_splits=5,\n",
    "        random_state=42\n",
    "    ):\n",
    "        self.n_splits = n_splits\n",
    "        self.random_state = random_state\n",
    "\n",
    "    def _iter_test_indices(self, X):\n",
    "        X = np.array(X).copy()\n",
    "        n_samples = X.shape[0]\n",
    "        fold_size = "
   ]
  },
  {
   "cell_type": "code",
   "execution_count": null,
   "id": "9abe5e95-0dba-4299-8f23-b4f7caf6583a",
   "metadata": {},
   "outputs": [],
   "source": [
    "# class KFold:\n",
    "#     def __init__(\n",
    "#         self,\n",
    "#         n_splits=5,\n",
    "#         random_state=42,\n",
    "#     ):\n",
    "#         self.n_splits = n_splits\n",
    "#         self.random_state = random_state\n",
    "\n",
    "#     def _iter_test_indices(self, X):\n",
    "#         \"\"\"\n",
    "#         \"\"\"\n",
    "\n",
    "#         X = np.array(X).copy()\n",
    "#         n_samples = X.shape[0]\n",
    "#         fold_size = np.ones(self.n_splits, dtype='int') * (n_samples // self.n_splits)\n",
    "\n",
    "#         indices = np.arange(n_samples)\n",
    "\n",
    "#         np.random.seed(self.random_state)\n",
    "#         np.random.shuffle(indices)\n",
    "\n",
    "#         current = 0\n",
    "#         start_idx = current\n",
    "#         end_idx = current + size\n",
    "\n",
    "#         yield test_index\n",
    "#         current = end\n",
    "\n",
    "#     def split(self, X):\n",
    "#         X = np.array(X)\n",
    "#         indices = np.arange(X.shape[0])\n",
    "\n",
    "#         test_indices = self._iter_test_indices(X)\n",
    "\n",
    "#         for test_idx in test_indices:\n",
    "#             train_idx = np.array([idx for idx in indices if idx not in test_idx])\n",
    "\n",
    "#             yield (train_idx, test_idx)"
   ]
  }
 ],
 "metadata": {
  "kernelspec": {
   "display_name": "Python 3 (ipykernel)",
   "language": "python",
   "name": "python3"
  },
  "language_info": {
   "codemirror_mode": {
    "name": "ipython",
    "version": 3
   },
   "file_extension": ".py",
   "mimetype": "text/x-python",
   "name": "python",
   "nbconvert_exporter": "python",
   "pygments_lexer": "ipython3",
   "version": "3.10.0"
  }
 },
 "nbformat": 4,
 "nbformat_minor": 5
}
