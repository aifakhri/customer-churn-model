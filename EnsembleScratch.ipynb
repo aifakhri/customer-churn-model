{
 "cells": [
  {
   "cell_type": "code",
   "execution_count": 1,
   "id": "c5c51fc1-683a-4fdf-9f9e-cd79aa106458",
   "metadata": {},
   "outputs": [],
   "source": [
    "import copy\n",
    "import numpy as np\n",
    "import pandas as pd\n",
    "\n",
    "from sklearn.tree import DecisionTreeClassifier\n",
    "from sklearn.model_selection import train_test_split"
   ]
  },
  {
   "cell_type": "code",
   "execution_count": 2,
   "id": "e5e636eb-3a0e-4855-9dc2-9b4c1e1b1676",
   "metadata": {},
   "outputs": [
    {
     "data": {
      "text/html": [
       "<div>\n",
       "<style scoped>\n",
       "    .dataframe tbody tr th:only-of-type {\n",
       "        vertical-align: middle;\n",
       "    }\n",
       "\n",
       "    .dataframe tbody tr th {\n",
       "        vertical-align: top;\n",
       "    }\n",
       "\n",
       "    .dataframe thead th {\n",
       "        text-align: right;\n",
       "    }\n",
       "</style>\n",
       "<table border=\"1\" class=\"dataframe\">\n",
       "  <thead>\n",
       "    <tr style=\"text-align: right;\">\n",
       "      <th></th>\n",
       "      <th>age</th>\n",
       "      <th>job</th>\n",
       "      <th>marital</th>\n",
       "      <th>education</th>\n",
       "      <th>default</th>\n",
       "      <th>balance</th>\n",
       "      <th>housing</th>\n",
       "      <th>loan</th>\n",
       "      <th>contact</th>\n",
       "      <th>day</th>\n",
       "      <th>month</th>\n",
       "      <th>duration</th>\n",
       "      <th>campaign</th>\n",
       "      <th>pdays</th>\n",
       "      <th>previous</th>\n",
       "      <th>poutcome</th>\n",
       "      <th>y</th>\n",
       "    </tr>\n",
       "  </thead>\n",
       "  <tbody>\n",
       "    <tr>\n",
       "      <th>0</th>\n",
       "      <td>30</td>\n",
       "      <td>unemployed</td>\n",
       "      <td>married</td>\n",
       "      <td>primary</td>\n",
       "      <td>no</td>\n",
       "      <td>1787</td>\n",
       "      <td>no</td>\n",
       "      <td>no</td>\n",
       "      <td>cellular</td>\n",
       "      <td>19</td>\n",
       "      <td>oct</td>\n",
       "      <td>79</td>\n",
       "      <td>1</td>\n",
       "      <td>-1</td>\n",
       "      <td>0</td>\n",
       "      <td>unknown</td>\n",
       "      <td>no</td>\n",
       "    </tr>\n",
       "    <tr>\n",
       "      <th>1</th>\n",
       "      <td>33</td>\n",
       "      <td>services</td>\n",
       "      <td>married</td>\n",
       "      <td>secondary</td>\n",
       "      <td>no</td>\n",
       "      <td>4789</td>\n",
       "      <td>yes</td>\n",
       "      <td>yes</td>\n",
       "      <td>cellular</td>\n",
       "      <td>11</td>\n",
       "      <td>may</td>\n",
       "      <td>220</td>\n",
       "      <td>1</td>\n",
       "      <td>339</td>\n",
       "      <td>4</td>\n",
       "      <td>failure</td>\n",
       "      <td>no</td>\n",
       "    </tr>\n",
       "    <tr>\n",
       "      <th>2</th>\n",
       "      <td>35</td>\n",
       "      <td>management</td>\n",
       "      <td>single</td>\n",
       "      <td>tertiary</td>\n",
       "      <td>no</td>\n",
       "      <td>1350</td>\n",
       "      <td>yes</td>\n",
       "      <td>no</td>\n",
       "      <td>cellular</td>\n",
       "      <td>16</td>\n",
       "      <td>apr</td>\n",
       "      <td>185</td>\n",
       "      <td>1</td>\n",
       "      <td>330</td>\n",
       "      <td>1</td>\n",
       "      <td>failure</td>\n",
       "      <td>no</td>\n",
       "    </tr>\n",
       "    <tr>\n",
       "      <th>3</th>\n",
       "      <td>30</td>\n",
       "      <td>management</td>\n",
       "      <td>married</td>\n",
       "      <td>tertiary</td>\n",
       "      <td>no</td>\n",
       "      <td>1476</td>\n",
       "      <td>yes</td>\n",
       "      <td>yes</td>\n",
       "      <td>unknown</td>\n",
       "      <td>3</td>\n",
       "      <td>jun</td>\n",
       "      <td>199</td>\n",
       "      <td>4</td>\n",
       "      <td>-1</td>\n",
       "      <td>0</td>\n",
       "      <td>unknown</td>\n",
       "      <td>no</td>\n",
       "    </tr>\n",
       "    <tr>\n",
       "      <th>4</th>\n",
       "      <td>59</td>\n",
       "      <td>blue-collar</td>\n",
       "      <td>married</td>\n",
       "      <td>secondary</td>\n",
       "      <td>no</td>\n",
       "      <td>0</td>\n",
       "      <td>yes</td>\n",
       "      <td>no</td>\n",
       "      <td>unknown</td>\n",
       "      <td>5</td>\n",
       "      <td>may</td>\n",
       "      <td>226</td>\n",
       "      <td>1</td>\n",
       "      <td>-1</td>\n",
       "      <td>0</td>\n",
       "      <td>unknown</td>\n",
       "      <td>no</td>\n",
       "    </tr>\n",
       "  </tbody>\n",
       "</table>\n",
       "</div>"
      ],
      "text/plain": [
       "   age          job  marital  education default  balance housing loan  \\\n",
       "0   30   unemployed  married    primary      no     1787      no   no   \n",
       "1   33     services  married  secondary      no     4789     yes  yes   \n",
       "2   35   management   single   tertiary      no     1350     yes   no   \n",
       "3   30   management  married   tertiary      no     1476     yes  yes   \n",
       "4   59  blue-collar  married  secondary      no        0     yes   no   \n",
       "\n",
       "    contact  day month  duration  campaign  pdays  previous poutcome   y  \n",
       "0  cellular   19   oct        79         1     -1         0  unknown  no  \n",
       "1  cellular   11   may       220         1    339         4  failure  no  \n",
       "2  cellular   16   apr       185         1    330         1  failure  no  \n",
       "3   unknown    3   jun       199         4     -1         0  unknown  no  \n",
       "4   unknown    5   may       226         1     -1         0  unknown  no  "
      ]
     },
     "execution_count": 2,
     "metadata": {},
     "output_type": "execute_result"
    }
   ],
   "source": [
    "# Import data\n",
    "filename = \"data/bank.csv\"\n",
    "\n",
    "# Load\n",
    "data = pd.read_csv(filename, sep=';')\n",
    "data.head()"
   ]
  },
  {
   "cell_type": "code",
   "execution_count": 3,
   "id": "9403463d-f989-4f6b-b4ad-d681536bcf52",
   "metadata": {},
   "outputs": [
    {
     "data": {
      "text/html": [
       "<div>\n",
       "<style scoped>\n",
       "    .dataframe tbody tr th:only-of-type {\n",
       "        vertical-align: middle;\n",
       "    }\n",
       "\n",
       "    .dataframe tbody tr th {\n",
       "        vertical-align: top;\n",
       "    }\n",
       "\n",
       "    .dataframe thead th {\n",
       "        text-align: right;\n",
       "    }\n",
       "</style>\n",
       "<table border=\"1\" class=\"dataframe\">\n",
       "  <thead>\n",
       "    <tr style=\"text-align: right;\">\n",
       "      <th></th>\n",
       "      <th>age</th>\n",
       "      <th>balance</th>\n",
       "      <th>duration</th>\n",
       "      <th>day</th>\n",
       "      <th>default</th>\n",
       "    </tr>\n",
       "  </thead>\n",
       "  <tbody>\n",
       "    <tr>\n",
       "      <th>0</th>\n",
       "      <td>30</td>\n",
       "      <td>1787</td>\n",
       "      <td>79</td>\n",
       "      <td>19</td>\n",
       "      <td>0</td>\n",
       "    </tr>\n",
       "    <tr>\n",
       "      <th>1</th>\n",
       "      <td>33</td>\n",
       "      <td>4789</td>\n",
       "      <td>220</td>\n",
       "      <td>11</td>\n",
       "      <td>0</td>\n",
       "    </tr>\n",
       "    <tr>\n",
       "      <th>2</th>\n",
       "      <td>35</td>\n",
       "      <td>1350</td>\n",
       "      <td>185</td>\n",
       "      <td>16</td>\n",
       "      <td>0</td>\n",
       "    </tr>\n",
       "    <tr>\n",
       "      <th>3</th>\n",
       "      <td>30</td>\n",
       "      <td>1476</td>\n",
       "      <td>199</td>\n",
       "      <td>3</td>\n",
       "      <td>0</td>\n",
       "    </tr>\n",
       "    <tr>\n",
       "      <th>4</th>\n",
       "      <td>59</td>\n",
       "      <td>0</td>\n",
       "      <td>226</td>\n",
       "      <td>5</td>\n",
       "      <td>0</td>\n",
       "    </tr>\n",
       "  </tbody>\n",
       "</table>\n",
       "</div>"
      ],
      "text/plain": [
       "   age  balance  duration  day  default\n",
       "0   30     1787        79   19        0\n",
       "1   33     4789       220   11        0\n",
       "2   35     1350       185   16        0\n",
       "3   30     1476       199    3        0\n",
       "4   59        0       226    5        0"
      ]
     },
     "execution_count": 3,
     "metadata": {},
     "output_type": "execute_result"
    }
   ],
   "source": [
    "cols = [\"age\", \"balance\", \"duration\", \"day\", \"default\"]\n",
    "\n",
    "data = data[cols]\n",
    "data[\"default\"] = data[\"default\"].apply(lambda x: 0 if x == \"no\" else 1)\n",
    "data.head()"
   ]
  },
  {
   "cell_type": "code",
   "execution_count": 4,
   "id": "581e948b-5f11-4fdf-b42d-3fafd14f44c4",
   "metadata": {},
   "outputs": [
    {
     "name": "stdout",
     "output_type": "stream",
     "text": [
      "X shape  (4521, 4)\n",
      "y shape  (4521,)\n"
     ]
    }
   ],
   "source": [
    "# Splitting input output\n",
    "\n",
    "target_col = \"default\"\n",
    "X = data.drop(columns=target_col, axis=1)\n",
    "y = data[target_col]\n",
    "\n",
    "\n",
    "print(\"X shape \", X.shape)\n",
    "print(\"y shape \", y.shape)"
   ]
  },
  {
   "cell_type": "code",
   "execution_count": 5,
   "id": "f50d692b-625d-492e-8910-d8a66013aa9e",
   "metadata": {},
   "outputs": [
    {
     "data": {
      "text/plain": [
       "default\n",
       "0    4445\n",
       "1      76\n",
       "Name: count, dtype: int64"
      ]
     },
     "execution_count": 5,
     "metadata": {},
     "output_type": "execute_result"
    }
   ],
   "source": [
    "y.value_counts()"
   ]
  },
  {
   "cell_type": "code",
   "execution_count": 6,
   "id": "d9c1676f-6286-4097-b7fe-1765aa8b1c95",
   "metadata": {},
   "outputs": [
    {
     "name": "stdout",
     "output_type": "stream",
     "text": [
      "X train shape:  (3616, 4)\n",
      "X test shape:  (905, 4)\n",
      "y train shape:  (3616,)\n",
      "y test shape:  (905,)\n"
     ]
    }
   ],
   "source": [
    "# Splitting train & test\n",
    "# training -> latih model\n",
    "# test -> generalisasi performa model\n",
    "X_train, X_test, y_train, y_test = train_test_split(\n",
    "    X,\n",
    "    y,\n",
    "    test_size=0.2,\n",
    "    random_state=42,\n",
    "    stratify=y\n",
    ")\n",
    "\n",
    "print(\"X train shape: \", X_train.shape)\n",
    "print(\"X test shape: \", X_test.shape)\n",
    "print(\"y train shape: \", y_train.shape)\n",
    "print(\"y test shape: \", y_test.shape)"
   ]
  },
  {
   "cell_type": "code",
   "execution_count": 7,
   "id": "a7393e2c-6e66-4681-9581-fa583ea042b9",
   "metadata": {},
   "outputs": [
    {
     "data": {
      "text/plain": [
       "default\n",
       "0    0.983131\n",
       "1    0.016869\n",
       "Name: proportion, dtype: float64"
      ]
     },
     "execution_count": 7,
     "metadata": {},
     "output_type": "execute_result"
    }
   ],
   "source": [
    "y_train.value_counts(normalize=True)"
   ]
  },
  {
   "cell_type": "code",
   "execution_count": 8,
   "id": "0c535dca-5ad4-47ab-a740-3b7fc769d673",
   "metadata": {},
   "outputs": [
    {
     "data": {
      "text/plain": [
       "default\n",
       "0    0.98319\n",
       "1    0.01681\n",
       "Name: proportion, dtype: float64"
      ]
     },
     "execution_count": 8,
     "metadata": {},
     "output_type": "execute_result"
    }
   ],
   "source": [
    "y.value_counts(normalize=True)"
   ]
  },
  {
   "cell_type": "code",
   "execution_count": 9,
   "id": "a6de0b4a-6e91-4123-86bf-cd33f4490d2b",
   "metadata": {},
   "outputs": [],
   "source": [
    "def _generate_ensemble_estimator(base_estimator, n_estimators):\n",
    "    estimators = [copy.deepcopy(base_estimator) for i in range(n_estimators)]\n",
    "\n",
    "    return estimators"
   ]
  },
  {
   "cell_type": "code",
   "execution_count": 10,
   "id": "68ba91c5-a627-43c3-a828-bf2d8670981b",
   "metadata": {},
   "outputs": [],
   "source": [
    "def _generate_sample_indices(seed, n_estimators, n_population, n_samples, bootstrap=True):\n",
    "    # Get the seed\n",
    "    np.random.seed(seed)\n",
    "\n",
    "    # Get the bagging indices\n",
    "    sample_indices = np.random.choice(n_population,\n",
    "                                      size = (n_estimators, n_samples),\n",
    "                                      replace = bootstrap)\n",
    "    return sample_indices"
   ]
  },
  {
   "cell_type": "code",
   "execution_count": 11,
   "id": "9a3ac8a0-eec6-4aca-a85f-447f14821d2b",
   "metadata": {},
   "outputs": [],
   "source": [
    "def _generate_feature_indices(seed, n_estimators, n_population, n_features, bootstrap=False):\n",
    "    np.random.seed(seed)\n",
    "\n",
    "    # Get the bagging indices\n",
    "    feature_indices = np.empty((n_estimators, n_features), dtype=\"int\")\n",
    "    for i in range(n_estimators):\n",
    "        feature_indices[i] = np.random.choice(n_population, \n",
    "                                              n_features, \n",
    "                                              replace=bootstrap)\n",
    "        feature_indices[i].sort()\n",
    "\n",
    "    return feature_indices"
   ]
  },
  {
   "cell_type": "code",
   "execution_count": 12,
   "id": "2f63574b-c081-4bd6-bd7e-012dfaa07a6c",
   "metadata": {},
   "outputs": [],
   "source": [
    "def _predict_ensemble(estimators, feature_indices, X):\n",
    "    X = np.array(X).copy()\n",
    "    n_samples = X.shape[0]\n",
    "\n",
    "    # Prepare the ensemble model\n",
    "    n_estimators = len(estimators)\n",
    "\n",
    "    # Create the output\n",
    "    y_preds = np.empty((n_estimators, n_samples))\n",
    "\n",
    "    # Fill the output with the given ensemble model\n",
    "    for i, estimator in enumerate(estimators):\n",
    "        # Extract the estimators\n",
    "        X_ = X[:, feature_indices[i]]\n",
    "\n",
    "        # Get the predictions\n",
    "        y_preds[i] = estimator.predict(X_)\n",
    "\n",
    "    return y_preds"
   ]
  },
  {
   "cell_type": "code",
   "execution_count": 13,
   "id": "9698a5b6-2077-4181-89c5-b063a30939e5",
   "metadata": {},
   "outputs": [],
   "source": [
    "class BaseEnsemble:\n",
    "    def __init__(\n",
    "        self,\n",
    "        estimator,\n",
    "        n_estimators,\n",
    "        max_features=None,\n",
    "        random_state=None\n",
    "    ):\n",
    "        self.estimator = estimator\n",
    "        self.n_estimators = n_estimators\n",
    "        self.max_features = max_features\n",
    "        self.random_state = random_state\n",
    "\n",
    "    def fit(self, X, y):\n",
    "        # Sesuaikan format input\n",
    "        X = np.array(X).copy()\n",
    "        y = np.array(y).copy()\n",
    "\n",
    "        self.classes = list(sorted(set(y)))\n",
    "        \n",
    "        # Ekstrak informasi data\n",
    "        self.n_samples, self.n_features = X.shape\n",
    "\n",
    "        # Buat estimator ensemble\n",
    "        self.estimators_ = _generate_ensemble_estimator(base_estimator=self.estimator,\n",
    "                                                        n_estimators=self.n_estimators)\n",
    "\n",
    "        # Buat bootstrap sample\n",
    "        sample_indices = _generate_sample_indices(seed=self.random_state,\n",
    "                                                   n_estimators=self.n_estimators,\n",
    "                                                   n_population=self.n_samples,\n",
    "                                                   n_samples=self.n_samples,\n",
    "                                                   bootstrap=True)\n",
    "\n",
    "        print(sample_indices)\n",
    "        if isinstance(self.max_features, int):\n",
    "            max_features = self.max_features\n",
    "        elif self.max_features == \"sqrt\":\n",
    "            max_features = int(np.sqrt(self.n_features))\n",
    "        elif self.max_features == \"log2\":\n",
    "            max_features = int(np.log2(self.n_features))\n",
    "        else:\n",
    "            max_features = self.n_features\n",
    "        # Generate random feature\n",
    "        self.feature_indices = _generate_feature_indices(seed=self.random_state,\n",
    "                                                         n_estimators=self.n_estimators,\n",
    "                                                         n_population=self.n_features,\n",
    "                                                         n_features=max_features,\n",
    "                                                         bootstrap=False)\n",
    "        # Fit the model\n",
    "        for b in range(self.n_estimators):\n",
    "            # Get the bootstrap features\n",
    "            X_bootstrap = X[:, self.feature_indices[b]]\n",
    "\n",
    "            # Get the bootstrap samples\n",
    "            X_bootstrap = X_bootstrap[sample_indices[b], :]\n",
    "            y_bootstrap = y[sample_indices[b]]\n",
    "\n",
    "            # fitting\n",
    "            estimator = self.estimators_[b]\n",
    "            estimator.fit(X_bootstrap, y_bootstrap)"
   ]
  },
  {
   "cell_type": "code",
   "execution_count": 14,
   "id": "ca2f3dcb-6700-4f32-9a13-7278c960492c",
   "metadata": {},
   "outputs": [],
   "source": [
    "clf = DecisionTreeClassifier()"
   ]
  },
  {
   "cell_type": "code",
   "execution_count": 15,
   "id": "312810ef-85e0-448a-aba1-cc71ad4cc4a7",
   "metadata": {},
   "outputs": [],
   "source": [
    "ensemble_clf = BaseEnsemble(estimator=clf,\n",
    "                            n_estimators=10,\n",
    "                            random_state=123)"
   ]
  },
  {
   "cell_type": "code",
   "execution_count": 16,
   "id": "e727808c-679a-4e52-8de8-475dd0fd094f",
   "metadata": {},
   "outputs": [
    {
     "name": "stdout",
     "output_type": "stream",
     "text": [
      "[[3582 3437 3454 ...  692 2348  347]\n",
      " [2366 2396 1406 ... 1662 2766 1045]\n",
      " [1161 2666 1583 ... 2645 1850 1150]\n",
      " ...\n",
      " [1633 3404  586 ... 1379 2201 2347]\n",
      " [2490  305 3521 ... 2044 1104 1998]\n",
      " [1375 1005 1404 ... 1504 3504 1786]]\n"
     ]
    }
   ],
   "source": [
    "ensemble_clf.fit(X_train, y_train)"
   ]
  },
  {
   "cell_type": "code",
   "execution_count": 17,
   "id": "75a54203-6d4d-4ba0-9930-21a268814554",
   "metadata": {},
   "outputs": [
    {
     "data": {
      "text/plain": [
       "[DecisionTreeClassifier(),\n",
       " DecisionTreeClassifier(),\n",
       " DecisionTreeClassifier(),\n",
       " DecisionTreeClassifier(),\n",
       " DecisionTreeClassifier(),\n",
       " DecisionTreeClassifier(),\n",
       " DecisionTreeClassifier(),\n",
       " DecisionTreeClassifier(),\n",
       " DecisionTreeClassifier(),\n",
       " DecisionTreeClassifier()]"
      ]
     },
     "execution_count": 17,
     "metadata": {},
     "output_type": "execute_result"
    }
   ],
   "source": [
    "ensemble_clf.estimators_"
   ]
  },
  {
   "cell_type": "code",
   "execution_count": 19,
   "id": "c5788b5c-86b4-44fe-b24f-a5a101062143",
   "metadata": {},
   "outputs": [
    {
     "data": {
      "text/plain": [
       "array([[0, 1, 2, 3],\n",
       "       [0, 1, 2, 3],\n",
       "       [0, 1, 2, 3],\n",
       "       [0, 1, 2, 3],\n",
       "       [0, 1, 2, 3],\n",
       "       [0, 1, 2, 3],\n",
       "       [0, 1, 2, 3],\n",
       "       [0, 1, 2, 3],\n",
       "       [0, 1, 2, 3],\n",
       "       [0, 1, 2, 3]])"
      ]
     },
     "execution_count": 19,
     "metadata": {},
     "output_type": "execute_result"
    }
   ],
   "source": [
    "ensemble_clf.feature_indices"
   ]
  }
 ],
 "metadata": {
  "kernelspec": {
   "display_name": "Python 3 (ipykernel)",
   "language": "python",
   "name": "python3"
  },
  "language_info": {
   "codemirror_mode": {
    "name": "ipython",
    "version": 3
   },
   "file_extension": ".py",
   "mimetype": "text/x-python",
   "name": "python",
   "nbconvert_exporter": "python",
   "pygments_lexer": "ipython3",
   "version": "3.10.0"
  }
 },
 "nbformat": 4,
 "nbformat_minor": 5
}
